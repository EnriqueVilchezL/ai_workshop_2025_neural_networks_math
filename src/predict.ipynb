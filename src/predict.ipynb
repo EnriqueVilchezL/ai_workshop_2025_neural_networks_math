{
 "cells": [
  {
   "cell_type": "markdown",
   "metadata": {},
   "source": [
    "# Using a Neural Network for prediction\n",
    "\n",
    "[![Open In Colab](https://colab.research.google.com/assets/colab-badge.svg)](https://githubtocolab.com/EnriqueVilchezL/ai_workshop_2025_neural_networks_math/blob/main/src/predict.ipynb)"
   ]
  },
  {
   "cell_type": "markdown",
   "metadata": {},
   "source": [
    "## 0. Introduction\n",
    "\n",
    "Once the neural network was trained and tested, we can use the neural network in a real world environment to serve its purpose.\n",
    "\n",
    "In this workshop, we will see the prediction function of a neural network using the MNIST dataset, a collection of handwritten digits. Aditionally, if you have a local computer to run tkinter, you can see a tkinter program to draw a digit and make a prediction."
   ]
  },
  {
   "cell_type": "markdown",
   "metadata": {},
   "source": [
    "## 1. Importing Modules and Initial Configuration\n",
    "\n",
    "The necessary libraries are imported to build and predict with the model."
   ]
  },
  {
   "cell_type": "code",
   "execution_count": null,
   "metadata": {},
   "outputs": [],
   "source": [
    "!git clone https://github.com/EnriqueVilchezL/ai_workshop_2025_neural_networks_math\n",
    "!apt-get install -y python3-tk\n",
    "%pip install numpy"
   ]
  },
  {
   "cell_type": "code",
   "execution_count": null,
   "metadata": {},
   "outputs": [],
   "source": [
    "%cd ai_workshop_2025_neural_networks_math/src"
   ]
  },
  {
   "cell_type": "code",
   "execution_count": null,
   "metadata": {},
   "outputs": [],
   "source": [
    "from network.sequential import Sequential\n",
    "import numpy as np"
   ]
  },
  {
   "cell_type": "markdown",
   "metadata": {},
   "source": [
    "## 2. Defining the Predict Function\n",
    "\n",
    "The function responsible for getting a prediction from the model is defined. This function performs the following tasks:\n",
    "- Performs forward propagation.\n",
    "- Sets the network output to an understandable format."
   ]
  },
  {
   "cell_type": "code",
   "execution_count": null,
   "metadata": {},
   "outputs": [],
   "source": [
    "def predict(model : Sequential, X : np.ndarray) -> np.ndarray:\n",
    "\t\treturn np.argmax(model.forward({'X' : X}))"
   ]
  },
  {
   "cell_type": "markdown",
   "metadata": {},
   "source": [
    "## 3. MNIST Drawing App\n",
    "\n",
    "If you are running this notebook locally, you can see a tkinter program to make a prediction for a handwritten digit, along with the network activations."
   ]
  },
  {
   "cell_type": "code",
   "execution_count": null,
   "metadata": {},
   "outputs": [],
   "source": [
    "from mnist.mnist_drawing_app import MNISTDrawingApp\n",
    "\n",
    "model = Sequential.load('model.pkl')\n",
    "app = MNISTDrawingApp(model)\n",
    "app.run()"
   ]
  }
 ],
 "metadata": {
  "kernelspec": {
   "display_name": "Python 3",
   "language": "python",
   "name": "python3"
  },
  "language_info": {
   "codemirror_mode": {
    "name": "ipython",
    "version": 3
   },
   "file_extension": ".py",
   "mimetype": "text/x-python",
   "name": "python",
   "nbconvert_exporter": "python",
   "pygments_lexer": "ipython3",
   "version": "3.12.9"
  }
 },
 "nbformat": 4,
 "nbformat_minor": 2
}
